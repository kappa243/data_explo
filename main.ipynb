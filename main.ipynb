{
 "cells": [
  {
   "cell_type": "code",
   "execution_count": null,
   "metadata": {
    "ExecuteTime": {
     "end_time": "2024-03-08T00:24:08.138779Z",
     "start_time": "2024-03-08T00:24:06.291157Z"
    }
   },
   "outputs": [],
   "source": [
    "import pickle\n",
    "import pandas as pd\n",
    "import numpy as np\n",
    "import matplotlib.pyplot as plt\n",
    "import urllib.request\n",
    "import os\n",
    "\n",
    "import folium\n",
    "from folium.plugins import HeatMap\n",
    "from folium.plugins import HeatMapWithTime\n",
    "\n",
    "from pyproj import CRS, Transformer\n",
    "\n",
    "MAPS_ENABLED = True\n",
    "\n",
    "data_url = \"https://data.lacity.org/api/views/2nrs-mtv8/rows.csv?accessType=DOWNLOAD\"\n",
    "\n",
    "# download data\n",
    "if not os.path.isfile(\"data.csv\"):\n",
    "    urllib.request.urlretrieve(data_url, \"data.csv\")\n",
    "\n",
    "\"\"\"\n",
    "Use the store_object function to make local caching of the data.\n",
    "\"\"\"\n",
    "def store_object(filename, instruction):\n",
    "    # check if file was cached before and read it\n",
    "    if os.path.isfile(filename):\n",
    "        return pickle.load(open(filename, 'rb'))\n",
    "    # run instruction and save it as pickle then return object\n",
    "    else:\n",
    "        obj = instruction()\n",
    "        pickle.dump(obj, open(filename, 'wb'))\n",
    "        return obj\n",
    "    \n",
    "data = store_object(\"data.pkl\", lambda: pd.read_csv(\"data.csv\"))"
   ]
  },
  {
   "cell_type": "code",
   "execution_count": null,
   "metadata": {
    "ExecuteTime": {
     "end_time": "2024-03-07T23:58:21.684017Z",
     "start_time": "2024-03-07T23:58:21.676281Z"
    }
   },
   "outputs": [],
   "source": [
    "data.head()"
   ]
  },
  {
   "cell_type": "code",
   "execution_count": null,
   "metadata": {
    "ExecuteTime": {
     "end_time": "2024-03-07T23:58:21.686493Z",
     "start_time": "2024-03-07T23:58:21.684461Z"
    }
   },
   "outputs": [],
   "source": [
    "data.columns"
   ]
  },
  {
   "cell_type": "markdown",
   "metadata": {},
   "source": [
    "### Cleaning data"
   ]
  },
  {
   "cell_type": "code",
   "execution_count": null,
   "metadata": {
    "ExecuteTime": {
     "end_time": "2024-03-07T23:58:21.847272Z",
     "start_time": "2024-03-07T23:58:21.686851Z"
    },
    "collapsed": false
   },
   "outputs": [],
   "source": [
    "# find missing values\n",
    "missing_values = data.isnull().sum()\n",
    "missing_values"
   ]
  },
  {
   "cell_type": "code",
   "execution_count": null,
   "metadata": {
    "ExecuteTime": {
     "end_time": "2024-03-07T23:58:21.914543Z",
     "start_time": "2024-03-07T23:58:21.848296Z"
    },
    "collapsed": false
   },
   "outputs": [],
   "source": [
    "# print((data['Vict Age'] < 0).sum()) # There are 89 records with negative age - removing it\n",
    "data = data[data[\"Vict Age\"] >= 0]"
   ]
  },
  {
   "cell_type": "code",
   "execution_count": null,
   "metadata": {},
   "outputs": [],
   "source": [
    "# convert 'DATE OCC' to datetime\n",
    "data[\"DATE OCC\"] = pd.to_datetime(data[\"DATE OCC\"], format=\"%m/%d/%Y %I:%M:%S %p\")\n",
    "\n",
    "# drop everything after 2024/01/01 as data is incomplete\n",
    "data = data[data[\"DATE OCC\"] < \"2024-01-01\"]"
   ]
  },
  {
   "cell_type": "markdown",
   "metadata": {},
   "source": [
    "### Data expansion"
   ]
  },
  {
   "cell_type": "code",
   "execution_count": null,
   "metadata": {},
   "outputs": [],
   "source": [
    "police_stations_data = pd.read_csv(\"lapd_stations.csv\")\n",
    "police_stations_data.head()\n",
    "\n",
    "input_epsg = CRS(\"EPSG:2229\") # NAD83\n",
    "output_epsg = CRS(\"EPSG:4326\") # WGS 84\n",
    "\n",
    "# convert coordinates [\"X\"] and [\"Y\"] to Latitude and Longitude in police_stations_data\n",
    "transformer = Transformer.from_crs(input_epsg, output_epsg, always_xy=True)\n",
    "police_stations_data[\"LAT\"], police_stations_data[\"LON\"] = transformer.transform(police_stations_data[\"Y\"].values, police_stations_data[\"X\"].values)\n",
    "\n",
    "# drop [\"X\"], [\"Y\"], [\"OBJECTID\"] columns\n",
    "police_stations_data = police_stations_data.drop(columns=[\"X\", \"Y\", \"OBJECTID\"])\n",
    "\n",
    "# move colum \"PREC\" to be first\n",
    "police_stations_data = police_stations_data[[\"PREC\", \"DIVISION\", \"LOCATION\", \"LAT\", \"LON\"]].sort_values(by=\"PREC\")\n",
    "\n",
    "police_stations_data.head()\n"
   ]
  },
  {
   "cell_type": "markdown",
   "metadata": {
    "collapsed": false
   },
   "source": [
    "### Data mining"
   ]
  },
  {
   "cell_type": "code",
   "execution_count": null,
   "metadata": {},
   "outputs": [],
   "source": [
    "# maps common\n",
    "\n",
    "popup_name_neighborhoods = folium.GeoJsonPopup(fields=[\"name\"], labels=True)\n",
    "geojson_neighborhoods = folium.GeoJson(\n",
    "    \"la_neighborhoods.geojson\",\n",
    "    style_function=lambda feature: {\n",
    "        \"fillColor\": \"#abcbff\",\n",
    "        \"color\": \"black\",\n",
    "        \"weight\": 1,\n",
    "        \"dashArray\": \"3, 3\",\n",
    "    },\n",
    "    highlight_function=lambda x: {\"fillColor\": \"#458cff\"},\n",
    "    smooth_factor=2.0,\n",
    "    name=\"LA neighborhoods\",\n",
    "    popup=popup_name_neighborhoods,\n",
    "    zoom_on_click=True\n",
    ")\n",
    "\n",
    "# use alias that map PREC number to police station name using police_stations\n",
    "popup_name_districts = folium.GeoJsonPopup(fields=[\"APREC\"], labels=True)\n",
    "geojson_districts = folium.GeoJson(\n",
    "    \"lapd_districts.geojson\",\n",
    "    style_function=lambda feature: {\n",
    "        \"fillColor\": \"#abcbff\",\n",
    "        \"color\": \"black\",\n",
    "        \"weight\": 1,\n",
    "        \"dashArray\": \"3, 3\",\n",
    "    },\n",
    "    highlight_function=lambda x: {\"fillColor\": \"#458cff\"},\n",
    "    smooth_factor=2.0,\n",
    "    name=\"LA districts\",\n",
    "    popup=popup_name_districts,\n",
    "    zoom_on_click=True\n",
    ")"
   ]
  },
  {
   "cell_type": "code",
   "execution_count": null,
   "metadata": {
    "ExecuteTime": {
     "end_time": "2024-03-07T23:58:22.599039Z",
     "start_time": "2024-03-07T23:58:22.527691Z"
    }
   },
   "outputs": [],
   "source": [
    "# Some statistics about victims age depends on sex\n",
    "data[data[\"Vict Sex\"] == \"M\"][\"Vict Age\"].describe()"
   ]
  },
  {
   "cell_type": "code",
   "execution_count": null,
   "metadata": {
    "ExecuteTime": {
     "end_time": "2024-03-07T23:58:23.603851Z",
     "start_time": "2024-03-07T23:58:23.518613Z"
    },
    "collapsed": false
   },
   "outputs": [],
   "source": [
    "data[data[\"Vict Sex\"] == \"F\"][\"Vict Age\"].describe()"
   ]
  },
  {
   "cell_type": "code",
   "execution_count": null,
   "metadata": {
    "ExecuteTime": {
     "end_time": "2024-03-07T23:58:24.501248Z",
     "start_time": "2024-03-07T23:58:24.350755Z"
    },
    "collapsed": false
   },
   "outputs": [],
   "source": [
    "data[\"AREA NAME\"].value_counts().plot(kind=\"bar\")\n",
    "plt.title(\"Number of crimes for specific area\")\n",
    "plt.xlabel(\"Area name\")\n",
    "plt.ylabel(\"Number of crimes\")\n",
    "plt.show()"
   ]
  },
  {
   "cell_type": "code",
   "execution_count": null,
   "metadata": {
    "collapsed": false
   },
   "outputs": [],
   "source": [
    "# global heatmap of crimes\n",
    "\n",
    "if MAPS_ENABLED:\n",
    "    map = folium.Map(location=[34.0522, -118.2437], zoom_start=10, tiles=\"CartoDB positron\")\n",
    "    geojson_neighborhoods.add_to(map)\n",
    "\n",
    "    heat_data = [[row[\"LAT\"], row[\"LON\"]] for index, row in data.iterrows()]\n",
    "    HeatMap(heat_data).add_to(map)\n",
    "\n",
    "    map"
   ]
  },
  {
   "cell_type": "code",
   "execution_count": null,
   "metadata": {},
   "outputs": [],
   "source": [
    "# map of police stations and districts with crime count\n",
    "\n",
    "if MAPS_ENABLED:\n",
    "    map = folium.Map(location=[34.0522, -118.2437], zoom_start=10, tiles=\"CartoDB positron\")\n",
    "\n",
    "\n",
    "    colormap = folium.LinearColormap(\n",
    "        colors=[\"green\", \"yellow\", \"orange\", \"red\"],\n",
    "        vmin=data[\"AREA\"].value_counts().min(),\n",
    "        vmax=data[\"AREA\"].value_counts().max(),\n",
    "        caption=\"Number of crimes\",\n",
    "    )\n",
    "    colormap.add_to(map)\n",
    "\n",
    "    geojson_crimes = folium.GeoJson(\n",
    "        \"lapd_districts.geojson\",\n",
    "        style_function=lambda feature: {\n",
    "            \"fillColor\": colormap(data[\"AREA\"].value_counts().get(feature[\"properties\"][\"PREC\"], 0)),\n",
    "            \"color\": \"black\",\n",
    "            \"weight\": 1,\n",
    "            \"dashArray\": \"3, 3\",\n",
    "        },\n",
    "        smooth_factor=2.0,\n",
    "        popup=folium.GeoJsonPopup(fields=[\"APREC\"], labels=True)\n",
    "    )\n",
    "    geojson_crimes.add_to(map)\n",
    "\n",
    "    for index, row in police_stations_data.iterrows():\n",
    "        folium.Marker(\n",
    "            location=[row[\"LAT\"], row[\"LON\"]],\n",
    "            popup=row[\"LOCATION\"],\n",
    "            icon=folium.Icon(color=\"darkblue\", icon=\"info-sign\"),\n",
    "        ).add_to(map)\n",
    "\n",
    "    map"
   ]
  },
  {
   "cell_type": "code",
   "execution_count": null,
   "metadata": {
    "ExecuteTime": {
     "end_time": "2024-03-07T23:58:25.293088Z",
     "start_time": "2024-03-07T23:58:25.286772Z"
    },
    "collapsed": false,
    "deletable": false,
    "editable": false,
    "trusted": true
   },
   "outputs": [],
   "source": [
    "print(\"Most popular crime:\\n\", data[\"Crm Cd\"].value_counts()[:5])\n",
    "# Here we can see that the most common crime is stealing vehicle."
   ]
  },
  {
   "cell_type": "code",
   "execution_count": null,
   "metadata": {
    "ExecuteTime": {
     "end_time": "2024-03-08T00:26:00.884805Z",
     "start_time": "2024-03-08T00:26:00.591604Z"
    },
    "collapsed": false
   },
   "outputs": [],
   "source": [
    "d1 = data[data[\"AREA NAME\"] == \"Harbor\"]\n",
    "d2 = data[data[\"AREA NAME\"] == \"Central\"]\n",
    "d3 = data[data[\"AREA NAME\"] == \"Newton\"]\n",
    "# Grupujemy dane według miesiąca i roku oraz zliczamy liczbę wystąpień przestępstw\n",
    "count_by_month_year1 = d1.groupby(data[\"DATE OCC\"].dt.to_period(\"M\")).size()\n",
    "count_by_month_year2 = d2.groupby(data[\"DATE OCC\"].dt.to_period(\"M\")).size()\n",
    "count_by_month_year3 = d3.groupby(data[\"DATE OCC\"].dt.to_period(\"M\")).size()\n",
    "\n",
    "count_by_month_year1.plot(marker=\"o\", linestyle=\"-\", figsize=(12, 6), label=\"Harbor\")\n",
    "count_by_month_year2.plot(marker=\"o\", linestyle=\"-\", figsize=(12, 6), label=\"Central\")\n",
    "count_by_month_year3.plot(marker=\"o\", linestyle=\"-\", figsize=(12, 6), label=\"Pacific\")\n",
    "\n",
    "plt.title(\"Number of occurrences of crimes for specific areas\")\n",
    "plt.xlabel(\"Month and year\")\n",
    "plt.ylabel(\"Number of occurrences\")\n",
    "plt.legend()\n",
    "plt.show()"
   ]
  },
  {
   "cell_type": "code",
   "execution_count": null,
   "metadata": {},
   "outputs": [],
   "source": [
    "# heat map of crimes over time by month\n",
    "\n",
    "if MAPS_ENABLED:\n",
    "    map = folium.Map(location=[34.0522, -118.2437], zoom_start=10, tiles=\"CartoDB positron\")\n",
    "    geojson_neighborhoods.add_to(map)\n",
    "\n",
    "    time_index = data[\"DATE OCC\"].dt.to_period(\"M\").unique()\n",
    "    time_index = sorted(time_index)\n",
    "\n",
    "    heat_data = []\n",
    "    for time in time_index:\n",
    "        heat_data.append([[row[\"LAT\"], row[\"LON\"]] for index, row in data[data[\"DATE OCC\"].dt.to_period(\"M\") == time].iterrows()])\n",
    "\n",
    "    # map period to string yyyy-mm\n",
    "    HeatMapWithTime(heat_data, index=[str(x) for x in time_index], max_opacity=0.8).add_to(map)\n",
    "\n",
    "    map"
   ]
  }
 ],
 "metadata": {
  "kernelspec": {
   "display_name": "Python 3",
   "language": "python",
   "name": "python3"
  },
  "language_info": {
   "codemirror_mode": {
    "name": "ipython",
    "version": 3
   },
   "file_extension": ".py",
   "mimetype": "text/x-python",
   "name": "python",
   "nbconvert_exporter": "python",
   "pygments_lexer": "ipython3",
   "version": "3.11.8"
  }
 },
 "nbformat": 4,
 "nbformat_minor": 2
}
